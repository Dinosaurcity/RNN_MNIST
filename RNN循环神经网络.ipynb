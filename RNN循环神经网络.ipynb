{
 "cells": [
  {
   "cell_type": "markdown",
   "metadata": {},
   "source": [
    "# RNN循环神经网络\n",
    "- 隐藏层之间的节点不再是无连接\n",
    "- 隐藏层的输入不仅包括输入层的输出还包括上一时刻隐藏层的输出。\n",
    "- 缺点：经过多次迭代容易梯度爆炸\n",
    "- 实现语句：tf.nn.dynamic_rnn\n",
    "## LSTM（长短时记忆 ）网络 [RNN的特殊类型]\n",
    "- 拥有固定权值为1的自连接，以及一个线性激活函数，因此其局部偏导为1\n",
    "- 误差可以在时间步中传递，而不会消失或爆炸\n",
    "- 通过门可以让信息不通过、完全通过、部分通过\n",
    "### 变体:GRU门限循环单元\n",
    "- 只有一个门（更新门）：决定了内部状态与输入状态的融合比例\n",
    "- 实现语句：tf.contrib.rnn.GRUCell\n"
   ]
  },
  {
   "cell_type": "code",
   "execution_count": 1,
   "metadata": {},
   "outputs": [],
   "source": [
    "import tensorflow as tf\n",
    "import numpy as np"
   ]
  },
  {
   "cell_type": "code",
   "execution_count": 5,
   "metadata": {},
   "outputs": [
    {
     "name": "stdout",
     "output_type": "stream",
     "text": [
      "Extracting C:/Users/dell/mnist/train-images-idx3-ubyte.gz\n",
      "Extracting C:/Users/dell/mnist/train-labels-idx1-ubyte.gz\n",
      "Extracting C:/Users/dell/mnist/t10k-images-idx3-ubyte.gz\n",
      "Extracting C:/Users/dell/mnist/t10k-labels-idx1-ubyte.gz\n"
     ]
    }
   ],
   "source": [
    "from tensorflow.examples.tutorials.mnist import input_data\n",
    "mnist = input_data.read_data_sets('C:/Users/dell/mnist/',one_hot = True)"
   ]
  },
  {
   "cell_type": "code",
   "execution_count": 6,
   "metadata": {},
   "outputs": [],
   "source": [
    "learning_rate = 0.001\n",
    "batch_size = 128\n",
    "n_input = 28\n",
    "n_steps = 28\n",
    "n_hidden = 128\n",
    "n_classes = 10"
   ]
  },
  {
   "cell_type": "code",
   "execution_count": 7,
   "metadata": {},
   "outputs": [],
   "source": [
    "x = tf.placeholder(tf.float32,[None,n_steps,n_input])\n",
    "y = tf.placeholder(tf.float32,[None,n_classes])"
   ]
  },
  {
   "cell_type": "code",
   "execution_count": 9,
   "metadata": {},
   "outputs": [],
   "source": [
    "output,_ = tf.nn.dynamic_rnn(\n",
    "            tf.contrib.rnn.GRUCell(n_hidden),\n",
    "            x,\n",
    "            dtype=tf.float32,\n",
    "            sequence_length = batch_size*[n_input],\n",
    "            )"
   ]
  },
  {
   "cell_type": "code",
   "execution_count": 10,
   "metadata": {},
   "outputs": [
    {
     "data": {
      "text/plain": [
       "TensorShape([Dimension(None), Dimension(28), Dimension(128)])"
      ]
     },
     "execution_count": 10,
     "metadata": {},
     "output_type": "execute_result"
    }
   ],
   "source": [
    "output.get_shape()#batch , n_steps , n_hidden "
   ]
  },
  {
   "cell_type": "code",
   "execution_count": 14,
   "metadata": {},
   "outputs": [],
   "source": [
    "index = tf.range(0,batch_size)*n_steps + (n_input - 1)\n",
    "flat = tf.reshape(output,[-1,int(output.get_shape()[2])]) ##扁平化\n",
    "last = tf.gather(flat,index)  ##提取索引处的变量"
   ]
  },
  {
   "cell_type": "code",
   "execution_count": 16,
   "metadata": {},
   "outputs": [],
   "source": [
    "num_classes = int(y.get_shape()[1])\n",
    "weight = tf.Variable(tf.truncated_normal([n_hidden,num_classes],stddev=0.01))\n",
    "bias = tf.Variable(tf.constant(0.1,shape=[num_classes]))\n",
    "prediction = tf.nn.softmax(tf.matmul(last,weight)+bias)"
   ]
  },
  {
   "cell_type": "code",
   "execution_count": 17,
   "metadata": {},
   "outputs": [],
   "source": [
    "cross_entropy = -tf.reduce_sum(y*tf.log(prediction))"
   ]
  },
  {
   "cell_type": "code",
   "execution_count": 22,
   "metadata": {},
   "outputs": [
    {
     "name": "stderr",
     "output_type": "stream",
     "text": [
      "D:\\anaconda3\\lib\\site-packages\\tensorflow\\python\\ops\\gradients_impl.py:112: UserWarning: Converting sparse IndexedSlices to a dense Tensor of unknown shape. This may consume a large amount of memory.\n",
      "  \"Converting sparse IndexedSlices to a dense Tensor of unknown shape. \"\n"
     ]
    }
   ],
   "source": [
    "optimizer = tf.train.AdamOptimizer(learning_rate,beta1 = 0.5)\n",
    "grads = optimizer.compute_gradients(cross_entropy)\n",
    "for i ,(g,v) in enumerate(grads):\n",
    "    if g is not None:\n",
    "        grads[i] = (tf.clip_by_norm(g,5),v) # clip gradients\n",
    "train_op = optimizer.apply_gradients(grads)"
   ]
  },
  {
   "cell_type": "code",
   "execution_count": 23,
   "metadata": {},
   "outputs": [],
   "source": [
    "correct_pred = tf.equal(tf.argmax(prediction,1),tf.argmax(y,1))\n",
    "accuracy = tf.reduce_mean(tf.cast(correct_pred,tf.float32))"
   ]
  },
  {
   "cell_type": "code",
   "execution_count": 24,
   "metadata": {},
   "outputs": [],
   "source": [
    "sess=tf.Session()"
   ]
  },
  {
   "cell_type": "code",
   "execution_count": 25,
   "metadata": {},
   "outputs": [
    {
     "name": "stdout",
     "output_type": "stream",
     "text": [
      "Iter0,Minibatch Loss = 293.516266, Training Accuracy0.132812\n",
      "Iter50,Minibatch Loss = 180.652451, Training Accuracy0.515625\n",
      "Iter100,Minibatch Loss = 143.760956, Training Accuracy0.625000\n",
      "Iter150,Minibatch Loss = 102.622299, Training Accuracy0.757812\n",
      "Iter200,Minibatch Loss = 93.873909, Training Accuracy0.789062\n",
      "Iter250,Minibatch Loss = 73.769493, Training Accuracy0.820312\n",
      "Iter300,Minibatch Loss = 39.551220, Training Accuracy0.906250\n",
      "Iter350,Minibatch Loss = 52.962044, Training Accuracy0.843750\n",
      "Iter400,Minibatch Loss = 39.316681, Training Accuracy0.906250\n",
      "Iter450,Minibatch Loss = 36.960602, Training Accuracy0.921875\n",
      "Iter500,Minibatch Loss = 24.130184, Training Accuracy0.968750\n",
      "Iter550,Minibatch Loss = 18.417496, Training Accuracy0.968750\n",
      "Iter600,Minibatch Loss = 24.702042, Training Accuracy0.953125\n",
      "Iter650,Minibatch Loss = 16.559032, Training Accuracy0.976562\n",
      "Iter700,Minibatch Loss = 14.724217, Training Accuracy0.968750\n",
      "Iter750,Minibatch Loss = 32.734070, Training Accuracy0.945312\n",
      "Iter800,Minibatch Loss = 12.240078, Training Accuracy0.984375\n",
      "Iter850,Minibatch Loss = 11.445444, Training Accuracy0.976562\n",
      "Iter900,Minibatch Loss = 10.319794, Training Accuracy0.992188\n",
      "Iter950,Minibatch Loss = 14.464342, Training Accuracy0.976562\n",
      "Iter1000,Minibatch Loss = 6.116675, Training Accuracy1.000000\n",
      "Iter1050,Minibatch Loss = 7.081431, Training Accuracy0.984375\n",
      "Iter1100,Minibatch Loss = 28.809929, Training Accuracy0.929688\n",
      "Iter1150,Minibatch Loss = 24.743629, Training Accuracy0.953125\n",
      "Iter1200,Minibatch Loss = 13.654340, Training Accuracy0.984375\n",
      "Iter1250,Minibatch Loss = 10.521814, Training Accuracy0.976562\n",
      "Optimization Finished!\n"
     ]
    }
   ],
   "source": [
    "init = tf.global_variables_initializer()\n",
    "sess.run(init)\n",
    "for step in range(1300):\n",
    "    batch_x,batch_y = mnist.train.next_batch(batch_size)\n",
    "    batch_x = batch_x.reshape((batch_size,n_steps,n_input))\n",
    "    sess.run(train_op,feed_dict={x:batch_x,y:batch_y})\n",
    "    if step%50 == 0:\n",
    "        acc = sess.run(accuracy,feed_dict={x:batch_x,y:batch_y})\n",
    "        loss = sess.run(cross_entropy,feed_dict={x:batch_x,y:batch_y})\n",
    "        print(\"Iter\"+str(step)+\",Minibatch Loss = \" + \"{:.6f}\".format(loss)+\", Training Accuracy = \" +\"{:.6f}\".format(acc))\n",
    "print(\"Optimization Finished!\")"
   ]
  },
  {
   "cell_type": "code",
   "execution_count": 26,
   "metadata": {},
   "outputs": [],
   "source": [
    "test_x = mnist.test.images\n",
    "test_x = test_x.reshape((-1,n_steps,n_input))\n",
    "test_y = mnist.test.labels"
   ]
  },
  {
   "cell_type": "code",
   "execution_count": 33,
   "metadata": {},
   "outputs": [
    {
     "name": "stdout",
     "output_type": "stream",
     "text": [
      "1.0\n"
     ]
    }
   ],
   "source": [
    "acc = sess.run(accuracy,feed_dict={x:test_x[:128],y:test_y[:128]})\n",
    "print(acc)"
   ]
  }
 ],
 "metadata": {
  "kernelspec": {
   "display_name": "Python 3",
   "language": "python",
   "name": "python3"
  },
  "language_info": {
   "codemirror_mode": {
    "name": "ipython",
    "version": 3
   },
   "file_extension": ".py",
   "mimetype": "text/x-python",
   "name": "python",
   "nbconvert_exporter": "python",
   "pygments_lexer": "ipython3",
   "version": "3.6.4"
  }
 },
 "nbformat": 4,
 "nbformat_minor": 2
}
